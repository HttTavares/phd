{
 "cells": [
  {
   "cell_type": "code",
   "execution_count": 23,
   "metadata": {},
   "outputs": [],
   "source": [
    "import random\n",
    "import numpy as np"
   ]
  },
  {
   "cell_type": "code",
   "execution_count": 45,
   "metadata": {},
   "outputs": [],
   "source": [
    "def gamble_run( max, initial ):\n",
    "    time = 0\n",
    "    money = initial\n",
    "    while ((money != max) and (money != 0) ):\n",
    "        money += random.choice([-1, 1])\n",
    "        time += 1\n",
    "    return money, time\n",
    "\n",
    "num_runs = 100\n",
    "max = 10\n",
    "initial = 5\n",
    "times = np.array([])\n",
    "moneys = np.array([])\n",
    "for _ in range(num_runs):\n",
    "    money, time = gamble_run( max, initial )\n",
    "    times = np.append(times, time)\n",
    "    moneys = np.append(moneys, money)\n",
    "\n",
    "\n",
    "time_and_money = times * moneys"
   ]
  },
  {
   "cell_type": "code",
   "execution_count": 46,
   "metadata": {},
   "outputs": [
    {
     "name": "stdout",
     "output_type": "stream",
     "text": [
      "87.4\n"
     ]
    }
   ],
   "source": [
    "print(time_and_money.mean())\n"
   ]
  }
 ],
 "metadata": {
  "kernelspec": {
   "display_name": "base",
   "language": "python",
   "name": "python3"
  },
  "language_info": {
   "codemirror_mode": {
    "name": "ipython",
    "version": 3
   },
   "file_extension": ".py",
   "mimetype": "text/x-python",
   "name": "python",
   "nbconvert_exporter": "python",
   "pygments_lexer": "ipython3",
   "version": "3.11.4"
  }
 },
 "nbformat": 4,
 "nbformat_minor": 2
}
