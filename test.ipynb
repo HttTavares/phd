{
 "cells": [
  {
   "cell_type": "code",
   "execution_count": 70,
   "metadata": {},
   "outputs": [],
   "source": [
    "import numpy as np\n",
    "import random \n",
    "np.random.seed(0)\n",
    "import matplotlib.pyplot as plt\n",
    "import numpy as np\n",
    "import torch\n",
    "import torch.nn as nn\n",
    "import torch.optim as optim"
   ]
  },
  {
   "cell_type": "code",
   "execution_count": null,
   "metadata": {},
   "outputs": [],
   "source": [
    "#TODO IMPROVE RANDOM REAL POINT DATASET GENERATION\n",
    "#TODO GENERATE LOTS OF FUNCTIONS AND STORE\n",
    "#TODO IMPLEMENT NN\n",
    "\n"
   ]
  },
  {
   "cell_type": "code",
   "execution_count": 2,
   "metadata": {},
   "outputs": [],
   "source": [
    "class FunctionFactory():\n",
    "    pass\n",
    "\n"
   ]
  },
  {
   "cell_type": "code",
   "execution_count": 59,
   "metadata": {},
   "outputs": [],
   "source": [
    "points = {\n",
    "    0.042965843749874444: 0.6533418670832937,\n",
    "    0.3787241679877035: 0.3042738424990863,\n",
    "    1.1705350036933195: 0.05716522954103642,\n",
    "    2.1004721426233766: 0.6455891043076963,\n",
    "    2.359753961469983: 0.9360699437627219,\n",
    "    2.9785776318824864: 0.654009855945541,\n",
    "    3.074667346643949: 0.6284206630265659,\n",
    "    3.205316525888884: 0.7456934331540251,\n",
    "    3.8666608914729816: 0.6740423292719581,\n",
    "    4.7658323245717025: 0.6434653583075024\n",
    "}\n",
    "\n",
    "def generate_random_real_points( number_of_points, accumulate = False, negative_numbers = False ):\n",
    "    x, y = [], []\n",
    "    for i in range(number_of_points):\n",
    "        x_incr, y_incr = random.random(), random.random(), \n",
    "        if len(x) == 0:\n",
    "            x.append(x_incr)\n",
    "            y.append(y_incr)\n",
    "        else:\n",
    "            x.append(x_incr+x[-1])\n",
    "            if accumulate:\n",
    "                y.append(y_incr+y[-1])\n",
    "            else:\n",
    "                y.append(y_incr)\n",
    "    x = np.array(x)\n",
    "    y = np.array(y)\n",
    "    return  dict(zip(x, y)) \n",
    "\n",
    "\n",
    "# def generate_random_nondecreasing_function( number_of_points,  ):\n",
    "#     x, y = [], []\n",
    "#     for i in range(number_of_points):\n",
    "#         x_incr, y_incr = random.random(), random.random(), \n",
    "#         if len(x) == 0:\n",
    "#             x.append(x_incr)\n",
    "#             y.append(y_incr)\n",
    "#         else:\n",
    "#             x.append(x_incr+x[-1])\n",
    "#             y.append(y_incr+y[-1])\n",
    "#     x = np.array(x)\n",
    "#     y = np.array(y)\n",
    "#     print(x)\n",
    "#     print(y)\n",
    "#     def final_funcion( x, y, t ):\n",
    "#         assert x[0] <= t\n",
    "#         assert x[-1] >= t\n",
    "        \n",
    "#     return final_funcion\n",
    "\n",
    "def generate_random_convex_function( number_of_points ):\n",
    "    return integral_function(generate_random_real_points( number_of_points, accumulate = False ))\n",
    "\n",
    "def generate_several_rcf( number_of_functions, number_of_points ):\n",
    "    return np.array([generate_random_convex_function( number_of_points ) for i in range(number_of_functions)])\n",
    "    pass\n",
    "\n",
    "def piecewise_linear_function(points):\n",
    "    # Sort the dictionary by x values (keys)\n",
    "    sorted_points = sorted(points.items())\n",
    "    def final_function( t ):\n",
    "    # If t is outside the range of x values, return the corresponding endpoint y value\n",
    "        if t <= sorted_points[0][0]:\n",
    "            return sorted_points[0][1]\n",
    "        if t >= sorted_points[-1][0]:\n",
    "            return sorted_points[-1][1]\n",
    "        \n",
    "        # Find the two points that enclose t\n",
    "        for i in range(len(sorted_points) - 1):\n",
    "            x1, y1 = sorted_points[i]\n",
    "            x2, y2 = sorted_points[i+1]\n",
    "            \n",
    "            if x1 <= t <= x2:\n",
    "                # Compute the y value using the equation of the line\n",
    "                return (y2 - y1) / (x2 - x1) * (t - x1) + y1\n",
    "    return final_function\n",
    "\n",
    "\n",
    "def integral_function(points):\n",
    "    # Sort the dictionary by x values (keys)\n",
    "    sorted_points = sorted(points.items())\n",
    "    \n",
    "    def final_function( t ):\n",
    "    # If t is outside the range of x values, return the accumulated value at the endpoints\n",
    "        if t <= sorted_points[0][0]:\n",
    "            return 0  # Assuming starting value is 0\n",
    "        if t >= sorted_points[-1][0]:\n",
    "            accumulated_value = 0\n",
    "            for i in range(len(sorted_points) - 1):\n",
    "                accumulated_value += sorted_points[i][1] * (sorted_points[i+1][0] - sorted_points[i][0])\n",
    "            return accumulated_value\n",
    "        \n",
    "        # Compute the accumulated value of the function at t\n",
    "        accumulated_value = 0\n",
    "        for i in range(len(sorted_points) - 1):\n",
    "            x1, y1 = sorted_points[i]\n",
    "            x2, y2 = sorted_points[i+1]\n",
    "            \n",
    "            if x1 <= t <= x2:\n",
    "                accumulated_value += y1 * (t - x1)\n",
    "                return accumulated_value\n",
    "            else:\n",
    "                accumulated_value += y1 * (x2 - x1)\n",
    "    return final_function\n",
    "\n",
    "def plot_function( real_function ):\n",
    "\n",
    "    x_values = np.linspace(-10, 10, 400)\n",
    "    y_values = np.array([real_function(t) for t in x_values])\n",
    "\n",
    "    # Plot the function\n",
    "    plt.figure(figsize=(8, 6))\n",
    "    plt.plot(x_values, y_values, label=\"f(x) = real function\", color='blue')\n",
    "    plt.title(\"Plot of real_function\")\n",
    "    plt.xlabel(\"x\")\n",
    "    plt.ylabel(\"f(x)\")\n",
    "    plt.grid(True)\n",
    "    plt.legend()\n",
    "    plt.show()\n",
    "\n",
    "\n",
    "\n"
   ]
  },
  {
   "cell_type": "code",
   "execution_count": 64,
   "metadata": {},
   "outputs": [],
   "source": [
    "functions = generate_several_rcf(10, 50)\n",
    "# for f in functions:\n",
    "#     plot_function(f)"
   ]
  },
  {
   "cell_type": "code",
   "execution_count": 63,
   "metadata": {},
   "outputs": [],
   "source": [
    "f = generate_random_convex_function( 15 )\n",
    "# plot_function(f)"
   ]
  },
  {
   "cell_type": "code",
   "execution_count": null,
   "metadata": {},
   "outputs": [],
   "source": []
  },
  {
   "cell_type": "code",
   "execution_count": 100,
   "metadata": {},
   "outputs": [
    {
     "name": "stdout",
     "output_type": "stream",
     "text": [
      "0\n",
      "input_data tensor([[1., 1., 1., 1., 1.]])\n",
      "output tensor([[0.5832, 0.5337, 0.4928, 0.5345, 0.5456]], grad_fn=<SigmoidBackward0>)\n",
      "loss tensor(0.1052, grad_fn=<AddBackward0>)\n",
      "penalty tensor(0., grad_fn=<SubBackward0>)\n",
      "200\n",
      "input_data tensor([[1., 1., 1., 1., 1.]])\n",
      "output tensor([[0.6052, 0.0120, 0.5276, 0.5420, 0.0325]], grad_fn=<SigmoidBackward0>)\n",
      "loss 0\n",
      "penalty tensor(0., grad_fn=<SubBackward0>)\n",
      "400\n",
      "input_data tensor([[1., 1., 1., 1., 1.]])\n",
      "output tensor([[0.6052, 0.0120, 0.5276, 0.5420, 0.0325]], grad_fn=<SigmoidBackward0>)\n",
      "loss 0\n",
      "penalty tensor(0., grad_fn=<SubBackward0>)\n",
      "600\n",
      "input_data tensor([[1., 1., 1., 1., 1.]])\n",
      "output tensor([[0.6052, 0.0120, 0.5276, 0.5420, 0.0325]], grad_fn=<SigmoidBackward0>)\n",
      "loss 0\n",
      "penalty tensor(0., grad_fn=<SubBackward0>)\n",
      "800\n",
      "input_data tensor([[1., 1., 1., 1., 1.]])\n",
      "output tensor([[0.6052, 0.0120, 0.5276, 0.5420, 0.0325]], grad_fn=<SigmoidBackward0>)\n",
      "loss 0\n",
      "penalty tensor(0., grad_fn=<SubBackward0>)\n",
      "tensor([[0.6052, 0.0120, 0.5276, 0.5420, 0.0325]], grad_fn=<SigmoidBackward0>)\n",
      "tensor(1.7193, grad_fn=<AddBackward0>)\n"
     ]
    }
   ],
   "source": [
    "\n",
    "\n",
    "# Define the neural network\n",
    "class Net(nn.Module):\n",
    "    def __init__(self, num_functions):\n",
    "        super(Net, self).__init__()\n",
    "        self.fc1 = nn.Linear(num_functions, 128)\n",
    "        self.fc2 = nn.Linear(128, num_functions)\n",
    "    \n",
    "    def forward(self, x):\n",
    "        x = torch.relu(self.fc1(x))\n",
    "        x = torch.sigmoid(self.fc2(x))  # Use sigmoid to keep values between 0 and 1\n",
    "        return x\n",
    "\n",
    "def evaluate_functions_at_points( functions, points ):\n",
    "    try:\n",
    "        ret = [functions[j](points[j]) for j in range(len(functions))]\n",
    "        return ret\n",
    "    except:\n",
    "        try:\n",
    "            ret = [functions[j](points[0][j]) for j in range(len(functions))]\n",
    "            return ret\n",
    "        except:\n",
    "            print()\n",
    "    # return [functions[j](points[j]) for j in range(len(functions))]\n",
    "\n",
    "# Loss function with penalty for constraint violation\n",
    "def custom_loss(output, target, functions, N, print_bool):\n",
    "    evaluation = evaluate_functions_at_points( functions, output )\n",
    "    loss = sum(evaluation)\n",
    "    # loss = sum([f(output[i]) for i, f in enumerate(functions)])\n",
    "    # Add penalty for constraint violation\n",
    "    output.sum()\n",
    "    # penalty = (output.sum() - N)**2\n",
    "    if output.sum() > N:\n",
    "        penalty = (output.sum() - N)**2\n",
    "    else:\n",
    "        penalty = (output.sum() - N)**2 - (output.sum() - N)**2\n",
    "    if print_bool:\n",
    "        print('loss', loss)\n",
    "        print('penalty', penalty)\n",
    "    return loss + penalty\n",
    "\n",
    "# Example usage\n",
    "functions = generate_several_rcf( 5, 10 )\n",
    "N = 20  # For example\n",
    "\n",
    "net = Net(len(functions))\n",
    "optimizer = optim.Adam(net.parameters(), lr=0.005)\n",
    "\n",
    "# Dummy input (can be your actual data or a tensor of ones for simplicity)\n",
    "input_data = torch.ones(1, len(functions))\n",
    "\n",
    "# Training loop\n",
    "for epoch in range(1000):  # Number of epochs\n",
    "    # print(epoch)\n",
    "    if epoch % 200 == 0:\n",
    "        print(epoch)\n",
    "        optimizer.zero_grad()\n",
    "        print('input_data', input_data)\n",
    "        output = net(input_data)\n",
    "        print('output', output)\n",
    "        loss = custom_loss(output, input_data, functions, N, print_bool=True)\n",
    "        # print(type(loss))\n",
    "        loss.backward()\n",
    "        optimizer.step()\n",
    "    else:\n",
    "        optimizer.zero_grad()\n",
    "        output = net(input_data)\n",
    "        loss = custom_loss(output, input_data, functions, N, print_bool=False)\n",
    "        # print(type(loss))\n",
    "        loss.backward()\n",
    "        optimizer.step()\n",
    "        \n",
    "\n",
    "# After training, output should be close to the optimal x values\n",
    "result = net(input_data)\n",
    "print(result)\n",
    "print(sum(sum(result)))"
   ]
  },
  {
   "cell_type": "code",
   "execution_count": null,
   "metadata": {},
   "outputs": [],
   "source": []
  },
  {
   "cell_type": "code",
   "execution_count": null,
   "metadata": {},
   "outputs": [],
   "source": []
  },
  {
   "cell_type": "code",
   "execution_count": null,
   "metadata": {},
   "outputs": [],
   "source": []
  },
  {
   "cell_type": "code",
   "execution_count": null,
   "metadata": {},
   "outputs": [],
   "source": []
  },
  {
   "cell_type": "code",
   "execution_count": 46,
   "metadata": {},
   "outputs": [
    {
     "data": {
      "text/plain": [
       "{0.3350429910261149: 0.18744843102818165,\n",
       " 1.143906684962091: 0.08749346899832244,\n",
       " 1.854394339284313: 0.9078524869351277,\n",
       " 2.582809525768529: 0.025854351445406154,\n",
       " 2.9663375503805045: 0.5993852002810116,\n",
       " 3.690844747320552: 0.7937008507746676,\n",
       " 4.420605627783035: 0.34188039735693787,\n",
       " 5.093103549772175: 0.40383063485451565,\n",
       " 5.456019381287194: 0.979907682979632,\n",
       " 6.403286836436438: 0.008262381856876999}"
      ]
     },
     "execution_count": 46,
     "metadata": {},
     "output_type": "execute_result"
    }
   ],
   "source": [
    "generate_random_real_points( 10 )\n"
   ]
  },
  {
   "cell_type": "code",
   "execution_count": 35,
   "metadata": {},
   "outputs": [
    {
     "data": {
      "image/png": "[encoded data removed]",
      "text/plain": [
       "<Figure size 800x600 with 1 Axes>"
      ]
     },
     "metadata": {},
     "output_type": "display_data"
    }
   ],
   "source": [
    "g = piecewise_linear_function(points)\n",
    "# for i in range(-50, 100):\n",
    "#     print(g(i/10))\n",
    "plot_function( g )\n"
   ]
  },
  {
   "cell_type": "code",
   "execution_count": 36,
   "metadata": {},
   "outputs": [
    {
     "data": {
      "image/png": "[encoded data removed]",
      "text/plain": [
       "<Figure size 800x600 with 1 Axes>"
      ]
     },
     "metadata": {},
     "output_type": "display_data"
    }
   ],
   "source": [
    "f = integral_function( points )\n",
    "# for i in range(-5, 10):\n",
    "#     print(f(i))\n",
    "plot_function( f )"
   ]
  },
  {
   "cell_type": "code",
   "execution_count": 4,
   "metadata": {},
   "outputs": [
    {
     "name": "stdout",
     "output_type": "stream",
     "text": [
      "[0.2068572  1.19850759 1.49917248 1.72868122 1.93945484 2.91276355\n",
      " 2.97135678 3.73334385 4.47231264 4.49690976]\n",
      "[0.59988198 0.63794007 1.43301104 2.08480177 2.34742583 3.14866806\n",
      " 3.66859697 4.50829217 4.7732793  5.02003516]\n"
     ]
    },
    {
     "ename": "TypeError",
     "evalue": "generate_random_nondecreasing_function.<locals>.final_funcion() missing 2 required positional arguments: 'y' and 't'",
     "output_type": "error",
     "traceback": [
      "\u001b[0;31m---------------------------------------------------------------------------\u001b[0m",
      "\u001b[0;31mTypeError\u001b[0m                                 Traceback (most recent call last)",
      "\u001b[1;32m/home/henrique/Labora/PhD/phd/test.ipynb Cell 4\u001b[0m line \u001b[0;36m2\n\u001b[1;32m      <a href='vscode-notebook-cell:/home/henrique/Labora/PhD/phd/test.ipynb#W3sZmlsZQ%3D%3D?line=0'>1</a>\u001b[0m f \u001b[39m=\u001b[39m generate_random_nondecreasing_function( \u001b[39m10\u001b[39m )\n\u001b[0;32m----> <a href='vscode-notebook-cell:/home/henrique/Labora/PhD/phd/test.ipynb#W3sZmlsZQ%3D%3D?line=1'>2</a>\u001b[0m f( \u001b[39m-\u001b[39;49m\u001b[39m3\u001b[39;49m )\n",
      "\u001b[0;31mTypeError\u001b[0m: generate_random_nondecreasing_function.<locals>.final_funcion() missing 2 required positional arguments: 'y' and 't'"
     ]
    }
   ],
   "source": [
    "f = generate_random_nondecreasing_function( 10 )\n",
    "f( -3 )\n"
   ]
  },
  {
   "cell_type": "code",
   "execution_count": 5,
   "metadata": {},
   "outputs": [
    {
     "name": "stdout",
     "output_type": "stream",
     "text": [
      "[ 0  1  4 13 16]\n",
      "[0.         0.85794562 1.70519736 2.32876105]\n",
      "[ 0.          0.          2.57383685 17.92061306 24.90689622]\n",
      "[ 0  5  7 13 19]\n",
      "[0.         0.38344152 1.17516656 1.70406148]\n",
      "[ 0.          0.          0.76688304  7.81788238 18.04225124]\n",
      "[ 0  6  9 14 18]\n",
      "[0.         0.0871293  0.1073477  0.93996754]\n",
      "[0.         0.         0.2613879  0.79812638 4.55799656]\n",
      "[ 0  1 16 16 19]\n",
      "[0.         0.47360805 1.2745188  1.79499628]\n",
      "[ 0.          0.          7.10412068  7.10412068 12.48910951]\n",
      "[ 0  1  2  8 15]\n",
      "[0.         0.14335329 1.0880222  1.60987053]\n",
      "[ 0.          0.          0.14335329  6.67148651 17.9405802 ]\n",
      "[ 0  3  4 12 19]\n",
      "[0.         0.13521817 0.45935918 0.60903405]\n",
      "[0.         0.         0.13521817 3.81009162 8.07332996]\n",
      "[ 0  5  9 16 18]\n",
      "[0.         0.6818203  1.0413282  1.47836015]\n",
      "[ 0.          0.          2.7272812  10.01657859 12.9732989 ]\n",
      "[ 0  2  4  8 10]\n",
      "[0.         0.65314004 0.82404962 1.18220179]\n",
      "[0.         0.         1.30628007 4.60247856 6.96688213]\n",
      "[ 0  1  4 13 15]\n",
      "[0.         0.57019677 1.00879828 1.99717212]\n",
      "[ 0.          0.          1.71059031 10.78977487 14.78411911]\n",
      "[ 0  4  5 13 16]\n",
      "[0.         0.65310833 0.90639993 1.3727107 ]\n",
      "[ 0.          0.          0.65310833  7.90430775 12.02243985]\n"
     ]
    }
   ],
   "source": [
    "for i in range(10):\n",
    "    f = generate_random_convex_function()\n",
    "    f( 3 )\n",
    "\n"
   ]
  }
 ],
 "metadata": {
  "kernelspec": {
   "display_name": "Python 3",
   "language": "python",
   "name": "python3"
  },
  "language_info": {
   "codemirror_mode": {
    "name": "ipython",
    "version": 3
   },
   "file_extension": ".py",
   "mimetype": "text/x-python",
   "name": "python",
   "nbconvert_exporter": "python",
   "pygments_lexer": "ipython3",
   "version": "3.11.4"
  },
  "orig_nbformat": 4
 },
 "nbformat": 4,
 "nbformat_minor": 2
}
