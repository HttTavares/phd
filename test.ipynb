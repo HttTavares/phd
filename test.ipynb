{
 "cells": [
  {
   "cell_type": "code",
   "execution_count": 2,
   "metadata": {},
   "outputs": [],
   "source": [
    "import numpy as np\n",
    "np.random.seed(0)\n",
    "\n"
   ]
  },
  {
   "cell_type": "code",
   "execution_count": 7,
   "metadata": {},
   "outputs": [],
   "source": [
    "def generate_random_convex_function():\n",
    "    x_points = np.random.randint(low=1, high=20, size=4)\n",
    "    x_points.sort()\n",
    "    x_points = np.append(0, x_points)  # the first 0 point is 0\n",
    "\n",
    "    slopes = np.add.accumulate(np.random.random(size=3))\n",
    "    slopes = np.append(0,slopes)  # the first slope is 0\n",
    "\n",
    "    y_incr = np.ediff1d(x_points)*slopes\n",
    "    y_points = np.add.accumulate(y_incr)\n",
    "    y_points = np.append(0,y_points)  # the first y values is 0\n",
    "\n",
    "    print(x_points)\n",
    "    print(slopes)\n",
    "    print(y_points)\n",
    "    def final_function( x ):\n",
    "        y = 0\n",
    "        return y\n",
    "    return final_function()\n",
    "\n",
    "def generate_several_rcf():\n",
    "    pass\n",
    "\n",
    "\n",
    "\n"
   ]
  },
  {
   "cell_type": "code",
   "execution_count": 8,
   "metadata": {},
   "outputs": [
    {
     "name": "stdout",
     "output_type": "stream",
     "text": [
      "[ 0  4  7  8 10]\n",
      "[0.         0.67063787 0.88102043 1.00994673]\n",
      "[0.         0.         2.01191361 2.89293404 4.9128275 ]\n",
      "[ 0  4 11 13 15]\n",
      "[0.         0.43860151 1.42697535 1.52902016]\n",
      "[0.         0.         3.07021059 5.9241613  8.98220162]\n",
      "[ 0  4  5  9 13]\n",
      "[0.         0.41436859 0.88906609 1.51257619]\n",
      "[ 0.          0.          0.41436859  3.97063295 10.02093772]\n",
      "[ 0 14 16 17 18]\n",
      "[0.         0.77834548 1.72791654 2.3904434 ]\n",
      "[0.         0.         1.55669096 3.2846075  5.6750509 ]\n",
      "[ 0  1  5 18 19]\n",
      "[0.         0.09609841 1.07255787 1.54120907]\n",
      "[ 0.          0.          0.38439363 14.32764598 15.86885505]\n",
      "[ 0  8 10 14 17]\n",
      "[0.         0.01998767 0.46169859 1.44128532]\n",
      "[0.         0.         0.03997533 1.88676968 6.21062562]\n",
      "[0 3 3 4 4]\n",
      "[0.         0.69247212 1.25907357 1.52446306]\n",
      "[0.         0.         0.         1.25907357 1.25907357]\n",
      "[ 0  2  5 10 15]\n",
      "[0.         0.9292962  1.24786515 1.91527553]\n",
      "[ 0.          0.          2.78788859  9.02721434 18.60359199]\n",
      "[ 0  1  1  7 17]\n",
      "[0.         0.18319136 0.7697043  0.78981184]\n",
      "[ 0.          0.          0.          4.61822578 12.51634421]\n",
      "[ 0  3  4  9 14]\n",
      "[0.         0.70373728 0.99221372 1.42550178]\n",
      "[ 0.          0.          0.70373728  5.66480586 12.79231475]\n"
     ]
    }
   ],
   "source": [
    "for i in range(10):\n",
    "    generate_random_convex_function()\n",
    "\n"
   ]
  }
 ],
 "metadata": {
  "kernelspec": {
   "display_name": "Python 3",
   "language": "python",
   "name": "python3"
  },
  "language_info": {
   "codemirror_mode": {
    "name": "ipython",
    "version": 3
   },
   "file_extension": ".py",
   "mimetype": "text/x-python",
   "name": "python",
   "nbconvert_exporter": "python",
   "pygments_lexer": "ipython3",
   "version": "3.10.12"
  },
  "orig_nbformat": 4
 },
 "nbformat": 4,
 "nbformat_minor": 2
}
