{
 "cells": [
  {
   "cell_type": "code",
   "execution_count": 1,
   "metadata": {},
   "outputs": [],
   "source": [
    "import numpy as np\n",
    "import random \n",
    "np.random.seed(0)\n",
    "\n"
   ]
  },
  {
   "cell_type": "code",
   "execution_count": 2,
   "metadata": {},
   "outputs": [],
   "source": [
    "class FunctionFactory():\n",
    "    pass\n"
   ]
  },
  {
   "cell_type": "code",
   "execution_count": 3,
   "metadata": {},
   "outputs": [],
   "source": [
    "def generate_random_nondecreasing_function( number_of_points,  ):\n",
    "    x, y = [], []\n",
    "    for i in range(number_of_points):\n",
    "        x_incr, y_incr = random.random(), random.random(), \n",
    "        if len(x) == 0:\n",
    "            x.append(x_incr)\n",
    "            y.append(y_incr)\n",
    "        else:\n",
    "            x.append(x_incr+x[-1])\n",
    "            y.append(y_incr+y[-1])\n",
    "    x = np.array(x)\n",
    "    y = np.array(y)\n",
    "    print(x)\n",
    "    print(y)\n",
    "    def final_funcion( x, y, t ):\n",
    "        assert x[0] <= t\n",
    "        assert x[-1] >= t\n",
    "        \n",
    "    return final_funcion\n",
    "\n",
    "def generate_random_convex_function():\n",
    "    x_points = np.random.randint(low=1, high=20, size=4)\n",
    "    x_points.sort()\n",
    "    x_points = np.append(0, x_points)  # the first 0 point is 0\n",
    "\n",
    "    slopes = np.add.accumulate(np.random.random(size=3))\n",
    "    slopes = np.append(0,slopes)  # the first slope is 0\n",
    "\n",
    "    y_incr = np.ediff1d(x_points)*slopes\n",
    "    y_points = np.add.accumulate(y_incr)\n",
    "    y_points = np.append(0,y_points)  # the first y values is 0\n",
    "\n",
    "    print(x_points)\n",
    "    print(slopes)\n",
    "    print(y_points)\n",
    "    def final_function( x ):\n",
    "        y = 0\n",
    "        return y\n",
    "    return final_function\n",
    "\n",
    "def generate_several_rcf():\n",
    "    pass\n",
    "\n",
    "\n",
    "\n"
   ]
  },
  {
   "cell_type": "code",
   "execution_count": 4,
   "metadata": {},
   "outputs": [
    {
     "name": "stdout",
     "output_type": "stream",
     "text": [
      "[0.2068572  1.19850759 1.49917248 1.72868122 1.93945484 2.91276355\n",
      " 2.97135678 3.73334385 4.47231264 4.49690976]\n",
      "[0.59988198 0.63794007 1.43301104 2.08480177 2.34742583 3.14866806\n",
      " 3.66859697 4.50829217 4.7732793  5.02003516]\n"
     ]
    },
    {
     "ename": "TypeError",
     "evalue": "generate_random_nondecreasing_function.<locals>.final_funcion() missing 2 required positional arguments: 'y' and 't'",
     "output_type": "error",
     "traceback": [
      "\u001b[0;31m---------------------------------------------------------------------------\u001b[0m",
      "\u001b[0;31mTypeError\u001b[0m                                 Traceback (most recent call last)",
      "\u001b[1;32m/home/henrique/Labora/PhD/phd/test.ipynb Cell 4\u001b[0m line \u001b[0;36m2\n\u001b[1;32m      <a href='vscode-notebook-cell:/home/henrique/Labora/PhD/phd/test.ipynb#W3sZmlsZQ%3D%3D?line=0'>1</a>\u001b[0m f \u001b[39m=\u001b[39m generate_random_nondecreasing_function( \u001b[39m10\u001b[39m )\n\u001b[0;32m----> <a href='vscode-notebook-cell:/home/henrique/Labora/PhD/phd/test.ipynb#W3sZmlsZQ%3D%3D?line=1'>2</a>\u001b[0m f( \u001b[39m-\u001b[39;49m\u001b[39m3\u001b[39;49m )\n",
      "\u001b[0;31mTypeError\u001b[0m: generate_random_nondecreasing_function.<locals>.final_funcion() missing 2 required positional arguments: 'y' and 't'"
     ]
    }
   ],
   "source": [
    "f = generate_random_nondecreasing_function( 10 )\n",
    "f( -3 )\n"
   ]
  },
  {
   "cell_type": "code",
   "execution_count": 5,
   "metadata": {},
   "outputs": [
    {
     "name": "stdout",
     "output_type": "stream",
     "text": [
      "[ 0  1  4 13 16]\n",
      "[0.         0.85794562 1.70519736 2.32876105]\n",
      "[ 0.          0.          2.57383685 17.92061306 24.90689622]\n",
      "[ 0  5  7 13 19]\n",
      "[0.         0.38344152 1.17516656 1.70406148]\n",
      "[ 0.          0.          0.76688304  7.81788238 18.04225124]\n",
      "[ 0  6  9 14 18]\n",
      "[0.         0.0871293  0.1073477  0.93996754]\n",
      "[0.         0.         0.2613879  0.79812638 4.55799656]\n",
      "[ 0  1 16 16 19]\n",
      "[0.         0.47360805 1.2745188  1.79499628]\n",
      "[ 0.          0.          7.10412068  7.10412068 12.48910951]\n",
      "[ 0  1  2  8 15]\n",
      "[0.         0.14335329 1.0880222  1.60987053]\n",
      "[ 0.          0.          0.14335329  6.67148651 17.9405802 ]\n",
      "[ 0  3  4 12 19]\n",
      "[0.         0.13521817 0.45935918 0.60903405]\n",
      "[0.         0.         0.13521817 3.81009162 8.07332996]\n",
      "[ 0  5  9 16 18]\n",
      "[0.         0.6818203  1.0413282  1.47836015]\n",
      "[ 0.          0.          2.7272812  10.01657859 12.9732989 ]\n",
      "[ 0  2  4  8 10]\n",
      "[0.         0.65314004 0.82404962 1.18220179]\n",
      "[0.         0.         1.30628007 4.60247856 6.96688213]\n",
      "[ 0  1  4 13 15]\n",
      "[0.         0.57019677 1.00879828 1.99717212]\n",
      "[ 0.          0.          1.71059031 10.78977487 14.78411911]\n",
      "[ 0  4  5 13 16]\n",
      "[0.         0.65310833 0.90639993 1.3727107 ]\n",
      "[ 0.          0.          0.65310833  7.90430775 12.02243985]\n"
     ]
    }
   ],
   "source": [
    "for i in range(10):\n",
    "    f = generate_random_convex_function()\n",
    "    f( 3 )\n",
    "\n"
   ]
  }
 ],
 "metadata": {
  "kernelspec": {
   "display_name": "Python 3",
   "language": "python",
   "name": "python3"
  },
  "language_info": {
   "codemirror_mode": {
    "name": "ipython",
    "version": 3
   },
   "file_extension": ".py",
   "mimetype": "text/x-python",
   "name": "python",
   "nbconvert_exporter": "python",
   "pygments_lexer": "ipython3",
   "version": "3.11.4"
  },
  "orig_nbformat": 4
 },
 "nbformat": 4,
 "nbformat_minor": 2
}
