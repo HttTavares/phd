{
 "cells": [
  {
   "cell_type": "code",
   "execution_count": 1,
   "metadata": {},
   "outputs": [],
   "source": [
    "\n",
    "from world import World"
   ]
  },
  {
   "cell_type": "code",
   "execution_count": 2,
   "metadata": {},
   "outputs": [
    {
     "name": "stdout",
     "output_type": "stream",
     "text": [
      "{'PTY@A$=*HfcçtoKQ1YQ|': {}}\n",
      "{'BvW*VR0$25cgLkl!$?uQ': {}, 'yRE^MKTEqsos\\\\$%^Q1Hl': {}, '\\\\r-Mtdp8xmSx#1ji`ESm': {}, 'HU-Ya0D1K%`6gzjÇzKyV': {}, 'p5^-C(w-rU=zWrP@ZvsK': {}}\n",
      "{'Ç7zLUwwx7HmzRV6i$ZtC': {}, 'ÇlfS@jN#yPs7cfK\\\\Q#RQ': {}, '\\\\bz)`bJWX6y*J#xAç0wJ': {}, 'm7ok=j=aP6%1fBGGD8ND': {}, 'n^iPP+Y88usG*vTThxt1': {}}\n",
      "{'NM6hQuMIOavH(aqÇXP%F': {}}\n"
     ]
    }
   ],
   "source": [
    "w = World(metadata={})\n",
    "w.run()\n",
    "\n",
    "\n",
    "\n",
    "\n"
   ]
  },
  {
   "cell_type": "code",
   "execution_count": 3,
   "metadata": {},
   "outputs": [
    {
     "name": "stdout",
     "output_type": "stream",
     "text": [
      "Water\n",
      "1\n"
     ]
    }
   ],
   "source": [
    "water_object = list(w.game.resources.objects.values())[0]\n",
    "print(water_object.name)\n",
    "print(water_object.cost)\n",
    "\n"
   ]
  },
  {
   "cell_type": "code",
   "execution_count": 3,
   "metadata": {},
   "outputs": [
    {
     "name": "stdout",
     "output_type": "stream",
     "text": [
      "{}\n"
     ]
    }
   ],
   "source": [
    "print(w)"
   ]
  },
  {
   "cell_type": "code",
   "execution_count": 3,
   "metadata": {},
   "outputs": [
    {
     "name": "stdout",
     "output_type": "stream",
     "text": [
      "{}\n"
     ]
    }
   ],
   "source": [
    "print(w.game)"
   ]
  }
 ],
 "metadata": {
  "kernelspec": {
   "display_name": "Python 3",
   "language": "python",
   "name": "python3"
  },
  "language_info": {
   "codemirror_mode": {
    "name": "ipython",
    "version": 3
   },
   "file_extension": ".py",
   "mimetype": "text/x-python",
   "name": "python",
   "nbconvert_exporter": "python",
   "pygments_lexer": "ipython3",
   "version": "3.10.13"
  }
 },
 "nbformat": 4,
 "nbformat_minor": 2
}
