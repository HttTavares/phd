{
 "cells": [
  {
   "cell_type": "code",
   "execution_count": 1,
   "metadata": {},
   "outputs": [],
   "source": [
    "from world import World"
   ]
  },
  {
   "cell_type": "code",
   "execution_count": 2,
   "metadata": {},
   "outputs": [
    {
     "name": "stdout",
     "output_type": "stream",
     "text": [
      "{'7%5u+x?\\\\DaD)U*qaJFoF': {}}\n",
      "{'okc!iVk@eAH2I`b*=l#N': {}, 'owWB:rffFÇ(A897_V5IW': {}, '1b8ç*X|ddtuBdG)Vx$Xd': {}, 'Lj5Gy1axwx%_GKpcpI^!': {}, 'TFBFsltÇfLtYU`-H?v87': {}}\n",
      "{'e7Smr|Ay-w^+\\\\qUKa#?S': {}, '0vGe4=\\\\?Ig|qO1KcfJU=': {}, '`o7^kca-zJQQ4*gGxFCf': {}, 'x+Y_Wu*GyzT$iE?I*7bE': {}, 'C#Cal\\\\Q(4To*MLZjTI%)': {}}\n",
      "{'rKR+nn)ISbDem_dXy+xR': {}, '`DhIr9!1ÇkmHyd?VX\\\\7z': {}, 'tiRKRJKUF0O$POJB44fj': {}, '|-oçÇa`G4VX9!UO|)`_-': {}}\n"
     ]
    }
   ],
   "source": [
    "world = World(metadata={})\n",
    "world.run()\n",
    "game = world.game\n",
    "for agent in game.agents:\n",
    "    agent = agent\n",
    "water = list(game.resources.objects.values())[0]\n",
    "for crop in game.crops:\n",
    "    crop = crop\n"
   ]
  },
  {
   "cell_type": "code",
   "execution_count": 12,
   "metadata": {},
   "outputs": [
    {
     "name": "stdout",
     "output_type": "stream",
     "text": [
      "4410\n",
      "4410\n"
     ]
    }
   ],
   "source": [
    "print(crop.plot.owner.money)\n"
   ]
  },
  {
   "cell_type": "code",
   "execution_count": 8,
   "metadata": {},
   "outputs": [
    {
     "name": "stdout",
     "output_type": "stream",
     "text": [
      "3\n"
     ]
    }
   ],
   "source": [
    "print(crop.health)"
   ]
  },
  {
   "cell_type": "code",
   "execution_count": null,
   "metadata": {},
   "outputs": [],
   "source": []
  },
  {
   "cell_type": "code",
   "execution_count": 11,
   "metadata": {},
   "outputs": [],
   "source": [
    "for _ in range( 100 ):\n",
    "    game.advance_tick()"
   ]
  },
  {
   "cell_type": "code",
   "execution_count": null,
   "metadata": {},
   "outputs": [],
   "source": []
  },
  {
   "cell_type": "code",
   "execution_count": 25,
   "metadata": {},
   "outputs": [
    {
     "name": "stdout",
     "output_type": "stream",
     "text": [
      "-4350\n"
     ]
    }
   ],
   "source": [
    "print(agent.money)"
   ]
  },
  {
   "cell_type": "code",
   "execution_count": 4,
   "metadata": {},
   "outputs": [
    {
     "name": "stdout",
     "output_type": "stream",
     "text": [
      "Water\n",
      "1\n"
     ]
    }
   ],
   "source": [
    "water_object = list(world.game.resources.objects.values())[0]\n",
    "print(water_object.name)\n",
    "print(water_object.cost)\n",
    "\n"
   ]
  },
  {
   "cell_type": "code",
   "execution_count": 3,
   "metadata": {},
   "outputs": [
    {
     "name": "stdout",
     "output_type": "stream",
     "text": [
      "{}\n"
     ]
    }
   ],
   "source": []
  },
  {
   "cell_type": "code",
   "execution_count": 3,
   "metadata": {},
   "outputs": [
    {
     "name": "stdout",
     "output_type": "stream",
     "text": [
      "{}\n"
     ]
    }
   ],
   "source": []
  }
 ],
 "metadata": {
  "kernelspec": {
   "display_name": "Python 3",
   "language": "python",
   "name": "python3"
  },
  "language_info": {
   "codemirror_mode": {
    "name": "ipython",
    "version": 3
   },
   "file_extension": ".py",
   "mimetype": "text/x-python",
   "name": "python",
   "nbconvert_exporter": "python",
   "pygments_lexer": "ipython3",
   "version": "3.11.4"
  }
 },
 "nbformat": 4,
 "nbformat_minor": 2
}
