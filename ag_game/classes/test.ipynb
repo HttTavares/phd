{
 "cells": [
  {
   "cell_type": "code",
   "execution_count": 1,
   "metadata": {},
   "outputs": [],
   "source": [
    "from world import World\n"
   ]
  },
  {
   "cell_type": "code",
   "execution_count": 2,
   "metadata": {},
   "outputs": [
    {
     "name": "stdout",
     "output_type": "stream",
     "text": [
      "{'6J4aW`f^R-lj|aHE\\\\`bV': {}}\n",
      "{'\\\\0IGZERG=ZuKUVC?KHeA': {}, 'Aa-#MJJ!NeoZqE:L3MhI': {}, '?(zq*%Dg+WhfdG1LX^eh': {}, 'e%GT_kJwmÇndJfrSn6m8': {}, '!I67cG0s_L+L`=9E=M3ç': {}}\n",
      "{'`N(Y`owTV_XRH2m)P-n^': {}, '?o#?b2U)Ksn?piTWWz0q': {}, 'QdMwwmMklUnTA6n6fTm$': {}, 'U5K_YtY5|hWa-dÇjb@=^': {}, '55cd5im#=JG!Zg:gC4I$': {}}\n",
      "{'#FJhKwOW@FJ$xargIU@v': {}, '`oqf7XbClKbKA_k4-!Oo': {}}\n"
     ]
    }
   ],
   "source": [
    "world = World({'debugging': 1})\n",
    "world.run()\n",
    "game = world.game\n",
    "for agent in game.agents:\n",
    "    agent = agent\n",
    "water = list(game.resources.objects.values())[0]\n",
    "for crop in game.crops:\n",
    "    crop = crop\n",
    "for resource in game.resources:\n",
    "    if resource.name == \"Booster\":\n",
    "        booster = resource\n"
   ]
  },
  {
   "cell_type": "code",
   "execution_count": 7,
   "metadata": {},
   "outputs": [],
   "source": [
    "agent.initialize_nn()\n"
   ]
  },
  {
   "cell_type": "code",
   "execution_count": 6,
   "metadata": {},
   "outputs": [
    {
     "data": {
      "text/plain": [
       "NN(\n",
       "  (fc1): Linear(in_features=21, out_features=24, bias=True)\n",
       "  (fc2): Linear(in_features=24, out_features=24, bias=True)\n",
       "  (fc3): Linear(in_features=24, out_features=10, bias=True)\n",
       ")"
      ]
     },
     "execution_count": 6,
     "metadata": {},
     "output_type": "execute_result"
    }
   ],
   "source": [
    "agent.nn"
   ]
  },
  {
   "cell_type": "code",
   "execution_count": 5,
   "metadata": {},
   "outputs": [
    {
     "name": "stdout",
     "output_type": "stream",
     "text": [
      "{}\n",
      "{}\n",
      "10\n"
     ]
    }
   ],
   "source": []
  },
  {
   "cell_type": "code",
   "execution_count": 4,
   "metadata": {},
   "outputs": [],
   "source": [
    "for _ in range( 100 ):\n",
    "    game.step()"
   ]
  },
  {
   "cell_type": "code",
   "execution_count": null,
   "metadata": {},
   "outputs": [],
   "source": [
    "print()"
   ]
  }
 ],
 "metadata": {
  "kernelspec": {
   "display_name": "Python 3",
   "language": "python",
   "name": "python3"
  },
  "language_info": {
   "codemirror_mode": {
    "name": "ipython",
    "version": 3
   },
   "file_extension": ".py",
   "mimetype": "text/x-python",
   "name": "python",
   "nbconvert_exporter": "python",
   "pygments_lexer": "ipython3",
   "version": "3.11.4"
  }
 },
 "nbformat": 4,
 "nbformat_minor": 2
}
