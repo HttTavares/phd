{
 "cells": [
  {
   "cell_type": "code",
   "execution_count": 1,
   "metadata": {},
   "outputs": [],
   "source": [
    "from world import World"
   ]
  },
  {
   "cell_type": "code",
   "execution_count": 15,
   "metadata": {},
   "outputs": [
    {
     "name": "stdout",
     "output_type": "stream",
     "text": [
      "{'ha3|Ol`j_bzNI7YITjf:': {}}\n",
      "{'3XZ46+67cEN%bUjO=X@5': {}, 'z%)bLuUnd*8:(!B9BuN3': {}, 'zc(9YgL2+EnW_q(oVrar': {}, 'OCw_-w\\\\dXq0-66?Pçlnm': {}, 'WZzgl#zC3cx706T%bT6#': {}}\n",
      "{'3h=#WfPEzk:T=`Ç5|C79': {}, 'e86ill=_XKvZw\\\\`Ndc0r': {}, 'Wy5:\\\\jN?5CoKC7B)Ç+xH': {}, '`EhWqlvnKQeBl41N$%mU': {}, '-Wh*s\\\\aç2_gUrH+Dvf%X': {}}\n",
      "{'($nR9WPCI57c$b_Gx*HN': {}, 'eP0t^6CceNFbgvr0xwB2': {}, '?VXdQG-bEXL)çEj)!Are': {}, '|*5^2:p3z8xY6)@ZNoGE': {}}\n"
     ]
    }
   ],
   "source": [
    "world = World({'debugging': 1})\n",
    "world.run()\n",
    "game = world.game\n",
    "for agent in game.agents:\n",
    "    agent = agent\n",
    "water = list(game.resources.objects.values())[0]\n",
    "for crop in game.crops:\n",
    "    crop = crop\n",
    "for resource in game.resources:\n",
    "    if resource.name == \"Booster\":\n",
    "        booster = resource\n"
   ]
  },
  {
   "cell_type": "code",
   "execution_count": null,
   "metadata": {},
   "outputs": [],
   "source": [
    "print()"
   ]
  },
  {
   "cell_type": "code",
   "execution_count": 3,
   "metadata": {},
   "outputs": [],
   "source": [
    "for _ in range( 100 ):\n",
    "    game.step()"
   ]
  }
 ],
 "metadata": {
  "kernelspec": {
   "display_name": "Python 3",
   "language": "python",
   "name": "python3"
  },
  "language_info": {
   "codemirror_mode": {
    "name": "ipython",
    "version": 3
   },
   "file_extension": ".py",
   "mimetype": "text/x-python",
   "name": "python",
   "nbconvert_exporter": "python",
   "pygments_lexer": "ipython3",
   "version": "3.10.13"
  }
 },
 "nbformat": 4,
 "nbformat_minor": 2
}
