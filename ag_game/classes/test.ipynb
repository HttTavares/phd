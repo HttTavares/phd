{
 "cells": [
  {
   "cell_type": "code",
   "execution_count": 1,
   "metadata": {},
   "outputs": [],
   "source": [
    "from world import World\n",
    "import torch\n",
    "import torch.nn as nn\n",
    "import torch.optim as optim\n",
    "from torch.utils.data import DataLoader, TensorDataset"
   ]
  },
  {
   "cell_type": "code",
   "execution_count": 2,
   "metadata": {},
   "outputs": [
    {
     "name": "stdout",
     "output_type": "stream",
     "text": [
      "{'FDCZQ^rtevZ*m8foIJt8': {}}\n",
      "{'xrNF8^epKy*çmO93xD@L': {}, 'eY%6lq-moA?ErDl\\\\qKv2': {}, 'jv=?6Ph^9)oEzYkgwm3C': {}, 'Lt0kc%pfsh*_b!|oidx|': {}, '7`g97yM4qQejh7=3Syçm': {}}\n",
      "{'xçy@?=#jqad7sLwx!REs': {}, 'x78E8lxÇ6mrÇl@aPçAç+': {}, '16d\\\\hATtL!*)LNq=0vo_': {}, '\\\\y#UIçÇTM_rDuOEvJ6ZL': {}, '|K2O`+wn`3!N6+zvU7Vj': {}}\n",
      "{'ZiSxDAçuFC^C3vfqS6O9': {}, '6pljs(iSxH_\\\\kA4FFNoO': {}}\n"
     ]
    }
   ],
   "source": [
    "world = World({'debugging': 1})\n",
    "world.run()\n",
    "game = world.game\n",
    "for agent in game.agents:\n",
    "    agent = agent\n",
    "water = list(game.resources.objects.values())[0]\n",
    "for crop in game.crops:\n",
    "    crop = crop\n",
    "for resource in game.resources:\n",
    "    if resource.name == \"Booster\":\n",
    "        booster = resource\n",
    "    booster.distribution = ()\n",
    "\n"
   ]
  },
  {
   "cell_type": "code",
   "execution_count": 3,
   "metadata": {},
   "outputs": [],
   "source": [
    "agent.initialize_nn()\n"
   ]
  },
  {
   "cell_type": "code",
   "execution_count": 7,
   "metadata": {},
   "outputs": [
    {
     "name": "stdout",
     "output_type": "stream",
     "text": [
      "1000\n",
      "tensor([1.0627, 0.0000, 0.7921, 0.0000, 0.2845, 0.0000, 0.9621, 0.0000, 1.8340,\n",
      "        0.0000], grad_fn=<ReluBackward0>)\n",
      "tensor([106.,   0.,  79.,   0.,  28.,   0.,  96.,   0., 183.,   0.],\n",
      "       grad_fn=<RoundBackward0>)\n",
      "tensor([1.0204, 0.0000, 0.7873, 0.0000, 0.2779, 0.0000, 0.9409, 0.0000, 1.7851,\n",
      "        0.0000], grad_fn=<ReluBackward0>)\n",
      "tensor([102.,   0.,  79.,   0.,  28.,   0.,  94.,   0., 179.,   0.],\n",
      "       grad_fn=<RoundBackward0>)\n",
      "tensor([0.9905, 0.0000, 0.7690, 0.0000, 0.2674, 0.0000, 0.9109, 0.0000, 1.7333,\n",
      "        0.0000], grad_fn=<ReluBackward0>)\n",
      "tensor([ 99.,   0.,  77.,   0.,  27.,   0.,  91.,   0., 173.,   0.],\n",
      "       grad_fn=<RoundBackward0>)\n",
      "tensor([0.8612, 0.0000, 0.6657, 0.0000, 0.2691, 0.0000, 0.7626, 0.0000, 1.5606,\n",
      "        0.0000], grad_fn=<ReluBackward0>)\n",
      "tensor([ 86.,   0.,  67.,   0.,  27.,   0.,  76.,   0., 156.,   0.],\n",
      "       grad_fn=<RoundBackward0>)\n",
      "tensor([0.8251, 0.0000, 0.6513, 0.0000, 0.2588, 0.0000, 0.7501, 0.0000, 1.5063,\n",
      "        0.0000], grad_fn=<ReluBackward0>)\n",
      "tensor([ 83.,   0.,  65.,   0.,  26.,   0.,  75.,   0., 151.,   0.],\n",
      "       grad_fn=<RoundBackward0>)\n",
      "tensor([0.7758, 0.0000, 0.6294, 0.0000, 0.2573, 0.0000, 0.6926, 0.0000, 1.4595,\n",
      "        0.0000], grad_fn=<ReluBackward0>)\n",
      "tensor([ 78.,   0.,  63.,   0.,  26.,   0.,  69.,   0., 146.,   0.],\n",
      "       grad_fn=<RoundBackward0>)\n",
      "tensor([0.7372, 0.0000, 0.5258, 0.0000, 0.2235, 0.0000, 0.6427, 0.0000, 1.3213,\n",
      "        0.0000], grad_fn=<ReluBackward0>)\n",
      "tensor([ 74.,   0.,  53.,   0.,  22.,   0.,  64.,   0., 132.,   0.],\n",
      "       grad_fn=<RoundBackward0>)\n",
      "tensor([0.6852, 0.0000, 0.5032, 0.0000, 0.2159, 0.0000, 0.5971, 0.0000, 1.2740,\n",
      "        0.0000], grad_fn=<ReluBackward0>)\n",
      "tensor([ 69.,   0.,  50.,   0.,  22.,   0.,  60.,   0., 127.,   0.],\n",
      "       grad_fn=<RoundBackward0>)\n",
      "tensor([0.5324, 0.0000, 0.4636, 0.0000, 0.2077, 0.0000, 0.4906, 0.0000, 1.1269,\n",
      "        0.0000], grad_fn=<ReluBackward0>)\n",
      "tensor([ 53.,   0.,  46.,   0.,  21.,   0.,  49.,   0., 113.,   0.],\n",
      "       grad_fn=<RoundBackward0>)\n",
      "tensor([0.5453, 0.0000, 0.4490, 0.0000, 0.2025, 0.0000, 0.4822, 0.0000, 1.1240,\n",
      "        0.0000], grad_fn=<ReluBackward0>)\n",
      "tensor([ 55.,   0.,  45.,   0.,  20.,   0.,  48.,   0., 112.,   0.],\n",
      "       grad_fn=<RoundBackward0>)\n",
      "tensor(-2470., grad_fn=<SubBackward0>)\n"
     ]
    }
   ],
   "source": [
    "print(agent.money)\n",
    "for epoch in range(10):\n",
    "    game.step()\n",
    "    \n",
    "print(agent.money)\n"
   ]
  },
  {
   "cell_type": "code",
   "execution_count": 6,
   "metadata": {},
   "outputs": [
    {
     "name": "stdout",
     "output_type": "stream",
     "text": [
      "tensor([0.2003, 0.2893, 0.3275, 0.2480, 0.2866, 0.1388, 0.0000, 0.1026, 0.9055,\n",
      "        0.6001], grad_fn=<ReluBackward0>)\n",
      "tensor([200., 289., 328., 248., 287., 139.,   0., 103., 906., 600.],\n",
      "       grad_fn=<RoundBackward0>)\n"
     ]
    }
   ],
   "source": [
    "actions = agent.figure_out_decision()\n",
    "print(actions)\n",
    "real_actions = torch.round(actions*100)\n",
    "print(real_actions)\n",
    "\n",
    "# state_data = agent.get_state_data()\n",
    "# features = torch.tensor(state_data, dtype=torch.float32)\n",
    "# # labels = torch.tensor(actions, dtype=torch.float32)  \n",
    "# actions = agent.nn(features)\n",
    "# print(actions)\n",
    "# agent.nn( [ 1, 1, 1, 1, 1, 1, 1, 1, 1, 1 ] )\n",
    "\n",
    "\n"
   ]
  },
  {
   "cell_type": "code",
   "execution_count": 4,
   "metadata": {},
   "outputs": [],
   "source": [
    "def custom_loss_function( agent, game ):\n",
    "    # should i game.step()\n",
    "    initial_money = agent.money\n",
    "    game.step()\n",
    "    final_money = agent.money\n",
    "    loss = final_money - initial_money\n",
    "    return loss\n",
    "\n"
   ]
  },
  {
   "cell_type": "code",
   "execution_count": 36,
   "metadata": {},
   "outputs": [
    {
     "name": "stdout",
     "output_type": "stream",
     "text": [
      "1330\n",
      "1295\n"
     ]
    },
    {
     "data": {
      "text/plain": [
       "-35"
      ]
     },
     "execution_count": 36,
     "metadata": {},
     "output_type": "execute_result"
    }
   ],
   "source": [
    "custom_loss_function( agent, game )\n",
    "\n",
    "\n"
   ]
  },
  {
   "cell_type": "code",
   "execution_count": 8,
   "metadata": {},
   "outputs": [
    {
     "ename": "NameError",
     "evalue": "name 'custom_loss_function' is not defined",
     "output_type": "error",
     "traceback": [
      "\u001b[1;31m---------------------------------------------------------------------------\u001b[0m",
      "\u001b[1;31mNameError\u001b[0m                                 Traceback (most recent call last)",
      "Cell \u001b[1;32mIn[8], line 2\u001b[0m\n\u001b[0;32m      1\u001b[0m \u001b[38;5;28;01mfor\u001b[39;00m epoch \u001b[38;5;129;01min\u001b[39;00m \u001b[38;5;28mrange\u001b[39m(\u001b[38;5;241m100\u001b[39m):\n\u001b[1;32m----> 2\u001b[0m     \u001b[38;5;28mprint\u001b[39m(custom_loss_function( agent, game))\n",
      "\u001b[1;31mNameError\u001b[0m: name 'custom_loss_function' is not defined"
     ]
    }
   ],
   "source": [
    "for epoch in range(100):\n",
    "    print(custom_loss_function( agent, game))"
   ]
  },
  {
   "cell_type": "code",
   "execution_count": 4,
   "metadata": {},
   "outputs": [],
   "source": [
    "for _ in range( 100 ):\n",
    "    game.step()"
   ]
  },
  {
   "cell_type": "code",
   "execution_count": null,
   "metadata": {},
   "outputs": [],
   "source": [
    "print()"
   ]
  },
  {
   "cell_type": "code",
   "execution_count": null,
   "metadata": {},
   "outputs": [],
   "source": []
  },
  {
   "cell_type": "code",
   "execution_count": null,
   "metadata": {},
   "outputs": [],
   "source": []
  },
  {
   "cell_type": "code",
   "execution_count": 5,
   "metadata": {},
   "outputs": [
    {
     "name": "stderr",
     "output_type": "stream",
     "text": [
      "[nltk_data] Downloading package punkt to\n",
      "[nltk_data]     C:\\Users\\51053667\\AppData\\Roaming\\nltk_data...\n",
      "[nltk_data]   Unzipping tokenizers\\punkt.zip.\n"
     ]
    }
   ],
   "source": []
  },
  {
   "cell_type": "code",
   "execution_count": 7,
   "metadata": {},
   "outputs": [
    {
     "name": "stdout",
     "output_type": "stream",
     "text": [
      "['On', 'a', '$', '50,000', 'mortgage', 'of', '30', 'years', 'at', '8', 'percent', ',', 'the', 'monthly', 'payment', 'would', 'be', '$', '366.88', '.']\n",
      "<class 'list'>\n"
     ]
    }
   ],
   "source": []
  }
 ],
 "metadata": {
  "kernelspec": {
   "display_name": "Python 3",
   "language": "python",
   "name": "python3"
  },
  "language_info": {
   "codemirror_mode": {
    "name": "ipython",
    "version": 3
   },
   "file_extension": ".py",
   "mimetype": "text/x-python",
   "name": "python",
   "nbconvert_exporter": "python",
   "pygments_lexer": "ipython3",
   "version": "3.11.7"
  }
 },
 "nbformat": 4,
 "nbformat_minor": 2
}
