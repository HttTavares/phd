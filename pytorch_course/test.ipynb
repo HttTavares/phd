{
 "cells": [
  {
   "cell_type": "code",
   "execution_count": 2,
   "metadata": {},
   "outputs": [
    {
     "name": "stdout",
     "output_type": "stream",
     "text": [
      "2.0.1+cpu\n"
     ]
    }
   ],
   "source": [
    "import torch\n",
    "import pandas as pd\n",
    "import numpy as np\n",
    "import matplotlib.pyplot as plt\n",
    "print(torch.__version__)"
   ]
  },
  {
   "cell_type": "code",
   "execution_count": 12,
   "metadata": {},
   "outputs": [
    {
     "data": {
      "text/plain": [
       "tensor([[[10.5530,  7.7993, 13.1759, 10.7868],\n",
       "         [ 7.5823,  5.6446,  9.4426,  7.7256],\n",
       "         [ 8.7466,  6.4293, 10.9063,  8.8795],\n",
       "         [ 8.9510,  6.6381, 11.2199,  9.2547]],\n",
       "\n",
       "        [[ 2.2678,  1.3220,  1.2566,  1.5397],\n",
       "         [ 3.6396,  2.0357,  1.8231,  2.2970],\n",
       "         [ 6.2758,  3.8302,  3.3517,  4.3589],\n",
       "         [ 5.7829,  3.2924,  2.9402,  3.7746]],\n",
       "\n",
       "        [[ 2.1050,  1.7011,  1.8857,  3.3916],\n",
       "         [ 1.1645,  0.9489,  1.0819,  1.9637],\n",
       "         [ 0.8158,  0.6266,  0.7355,  1.3014],\n",
       "         [ 2.2259,  1.7717,  2.0191,  3.6206]],\n",
       "\n",
       "        [[ 6.4409,  5.2244,  7.4172,  5.6116],\n",
       "         [ 7.2868,  5.7119,  8.4274,  6.5065],\n",
       "         [ 7.2774,  5.5325,  8.4508,  6.6326],\n",
       "         [ 7.0563,  5.2950,  8.2037,  6.4872]]])"
      ]
     },
     "execution_count": 12,
     "metadata": {},
     "output_type": "execute_result"
    }
   ],
   "source": [
    "scalar = torch.tensor(6)\n",
    "# scalar.item()\n",
    "tens = torch.rand(4,4,4)\n",
    "torch.matmul(torch.matmul(tens, tens), torch.matmul(tens, tens)) "
   ]
  }
 ],
 "metadata": {
  "kernelspec": {
   "display_name": "Python 3",
   "language": "python",
   "name": "python3"
  },
  "language_info": {
   "codemirror_mode": {
    "name": "ipython",
    "version": 3
   },
   "file_extension": ".py",
   "mimetype": "text/x-python",
   "name": "python",
   "nbconvert_exporter": "python",
   "pygments_lexer": "ipython3",
   "version": "3.10.13"
  }
 },
 "nbformat": 4,
 "nbformat_minor": 2
}
